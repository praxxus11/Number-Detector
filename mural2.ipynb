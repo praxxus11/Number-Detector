{
 "cells": [
  {
   "cell_type": "code",
   "execution_count": 269,
   "metadata": {},
   "outputs": [],
   "source": [
    "import numpy as np\n",
    "import pandas as pd\n",
    "from matplotlib import pyplot as plt\n",
    "from random import randint\n",
    "from PIL import Image"
   ]
  },
  {
   "cell_type": "code",
   "execution_count": 270,
   "metadata": {},
   "outputs": [],
   "source": [
    "df = pd.read_csv('Big_project/mnist_test.csv', header=None)\n",
    "train_X = np.array(df.iloc[:9600, 1:]).astype(float)\n",
    "test_X = np.array(df.iloc[9600:, 1:]).astype(float)\n",
    "train_y = np.array(df.iloc[:9600, 0]).astype(float)\n",
    "test_y = np.array(df.iloc[9600:, 0]).astype(float)"
   ]
  },
  {
   "cell_type": "code",
   "execution_count": 271,
   "metadata": {},
   "outputs": [],
   "source": [
    "Layers = (784, 25, 25, 10)"
   ]
  },
  {
   "cell_type": "code",
   "execution_count": 272,
   "metadata": {},
   "outputs": [],
   "source": [
    "#Takes in a list of numpy matrixes and returns a flattened version\n",
    "#theta in the parameter is a tuple of matrixes\n",
    "def flatten(theta):\n",
    "    if len(theta) == 0:\n",
    "        return np.array([])\n",
    "    else:\n",
    "        return np.concatenate((theta[0].flatten(), flatten(theta[1:])))"
   ]
  },
  {
   "cell_type": "code",
   "execution_count": 273,
   "metadata": {},
   "outputs": [],
   "source": [
    "#Takes in a flattened row of parameters and reshapes them in aaccordance\n",
    "#to the Layers global variable\n",
    "\n",
    "#Returns a list of the unflattened row\n",
    "def unflatten(theta):\n",
    "    param = []\n",
    "    start = 0\n",
    "    end = 0\n",
    "    for i in range(0, len(Layers) - 1):\n",
    "        end += Layers[i+1] * (Layers[i] + 1)\n",
    "        param.append(theta[start:end].reshape(Layers[i+1], Layers[i] + 1))\n",
    "        start = end\n",
    "    return param"
   ]
  },
  {
   "cell_type": "code",
   "execution_count": 274,
   "metadata": {},
   "outputs": [],
   "source": [
    "def sigmoid(z):\n",
    "    return 1 / (1 + pow(np.e, -z))"
   ]
  },
  {
   "cell_type": "code",
   "execution_count": 275,
   "metadata": {},
   "outputs": [],
   "source": [
    "def ddx_sigmoid(z):\n",
    "    return sigmoid(z) * (1 - sigmoid(z))"
   ]
  },
  {
   "cell_type": "code",
   "execution_count": 276,
   "metadata": {},
   "outputs": [],
   "source": [
    "def normalize(X_norm):\n",
    "    mean_std = []\n",
    "    X_copy = X_norm.copy()\n",
    "    for i in range(0, X_norm.shape[1]):\n",
    "        mean = np.mean(X_norm[:, i])\n",
    "        std = np.std(X_norm[:, i])\n",
    "        if std != 0:\n",
    "            X_copy[:, i] = (X_norm[:, i] - mean) / std\n",
    "            mean_std.append((mean, std))\n",
    "        else:\n",
    "            X_copy[:, i] = 0\n",
    "            mean_std.append((0, 1))\n",
    "    return X_copy, mean_std"
   ]
  },
  {
   "cell_type": "code",
   "execution_count": 277,
   "metadata": {},
   "outputs": [],
   "source": [
    "#Takes in the matrix of X values (m x n) and a vector of y values (m,) and \n",
    "# a flattened version of the parameters, a lambda_\n",
    "\n",
    "# returns the flattened gradient of the function at the current theta, \n",
    "# and also returns the cost of the function at that given location\n",
    "\n",
    "# a = [A1, A2, A3...AL]\n",
    "# z = [Z1, Z2, Z3...Z(L-1)]\n",
    "# d = [D2, D3...D(L-1)]\n",
    "\n",
    "def grad_and_cost(X, y, theta, lambda_=0):\n",
    "    J = 0\n",
    "    grads = []\n",
    "    \n",
    "    m = y.size\n",
    "    X = np.hstack((np.ones((m, 1)), X))\n",
    "    thetas = unflatten(theta)\n",
    "    for i in range(0, len(thetas)):\n",
    "        grads.append(np.zeros(thetas[i].shape))\n",
    "    for num in range(0, m):\n",
    "        vy = np.zeros(Layers[-1])\n",
    "        vy[int(y[num])] = 1\n",
    "        a = [X[num, :]]\n",
    "        z = []\n",
    "        #This is going through the thetas and setting the a and z values\n",
    "        #The size of z will be one less than the size of a\n",
    "        #Reason is because the first layer does not have a z value\n",
    "        for i in range(0, len(thetas)):\n",
    "            z.append(np.matmul(thetas[i], a[i]))\n",
    "            a_val = sigmoid(z[i])\n",
    "            if i != len(thetas) - 1:\n",
    "                a_val = np.hstack((1, a_val))\n",
    "            a.append(a_val)\n",
    "        \n",
    "        #Setting the values for delta, the error in each layer\n",
    "        #Like z, this one is one less element than a because\n",
    "        #the first layer is not included as a delta value\n",
    "        #(Because there is no 'error' for the predefined values)\n",
    "        d = [None] * (len(Layers) - 1)\n",
    "        for i in range(len(d) - 1, -1, -1):\n",
    "            if i == len(d) - 1:\n",
    "                d[i] = (a[i + 1] - vy)\n",
    "            else:\n",
    "                d[i] = np.matmul(thetas[i+1].T, d[i+1])[1:] * ddx_sigmoid(z[i])\n",
    "        \n",
    "        #Finally caluclating the gradients\n",
    "        for i in range(0, len(Layers) - 1):\n",
    "            #reshape (1, -1) broadcasts shape of vector (x,) to matrix (1, z)\n",
    "            grads[i] += np.matmul(d[i].reshape(-1, 1), (a[i].reshape(1, -1)))\n",
    "        #Finding the cost\n",
    "        J += sum(vy * np.log(a[-1]) + (1 - vy) * np.log(1 - a[-1]))\n",
    "    J /= -m\n",
    "    \n",
    "    #Adding on the regularization to both the cost and the gradient\n",
    "    reg = 0\n",
    "    for i in range(0, len(thetas)):\n",
    "        reg += np.sum(thetas[i][:, 1:] ** 2)\n",
    "        grads[i][:, 1:] += lambda_ * thetas[i][:, 1:]\n",
    "    reg *= lambda_ / (2 * m)\n",
    "    J += reg\n",
    "    fgrads = flatten(grads)\n",
    "    fgrads /= m\n",
    "    return fgrads, J"
   ]
  },
  {
   "cell_type": "code",
   "execution_count": 278,
   "metadata": {},
   "outputs": [],
   "source": [
    "##THIS IS ONLY TO VERIFY GRADIENT IS CORRECT\n",
    "\n",
    "def get_cost(X, y, theta, lambda_=0):\n",
    "    tot = 0\n",
    "    m = y.size\n",
    "    X = np.hstack((np.ones((m, 1)), X))\n",
    "    thetas = unflatten(theta)\n",
    "    for num in range(0, m):\n",
    "        vy = np.zeros(Layers[-1])\n",
    "        vy[int(y[num])] = 1\n",
    "        a = [X[num, :]]\n",
    "        z = []\n",
    "        for i in range(0, len(thetas)):\n",
    "            z.append(np.matmul(thetas[i], a[i]))\n",
    "            a_val = sigmoid(z[i])\n",
    "            if i != len(thetas) - 1:\n",
    "                a_val = np.hstack((1, a_val))\n",
    "            a.append(a_val)\n",
    "        tot += sum(vy * np.log(a[-1]) + (1 - vy) * np.log(1 - a[-1]))\n",
    "    return tot / -m"
   ]
  },
  {
   "cell_type": "code",
   "execution_count": 279,
   "metadata": {},
   "outputs": [],
   "source": [
    "def front_prop(x, theta):\n",
    "    m = Layers[-1]\n",
    "    x = np.hstack((1, x))\n",
    "    thetas = unflatten(theta)\n",
    "    a = [x]\n",
    "    z = []\n",
    "    for i in range(0, len(thetas)):\n",
    "        z.append(np.matmul(thetas[i], a[i]))\n",
    "        a_val = sigmoid(z[i])\n",
    "        if i != len(thetas) - 1:\n",
    "            a_val = np.hstack((1, a_val))\n",
    "        a.append(a_val)\n",
    "    return a[-1]"
   ]
  },
  {
   "cell_type": "code",
   "execution_count": 280,
   "metadata": {},
   "outputs": [
    {
     "data": {
      "text/plain": [
       "[<matplotlib.lines.Line2D at 0x7f37412263c8>]"
      ]
     },
     "execution_count": 280,
     "metadata": {},
     "output_type": "execute_result"
    },
    {
     "data": {
      "image/png": "[encoded data removed]",
      "text/plain": [
       "<Figure size 144x144 with 1 Axes>"
      ]
     },
     "metadata": {
      "needs_background": "light"
     },
     "output_type": "display_data"
    }
   ],
   "source": [
    "xx = np.arange(0, 500)\n",
    "Js = []\n",
    "# the = np.random.uniform(-0.12, 0.12, (20535,))\n",
    "train_X, factors = normalize(train_X)\n",
    "for i in range(0, 500):\n",
    "    gra, J = grad_and_cost(train_X, train_y, the, 1.5)\n",
    "    the -= 1 * gra\n",
    "    Js.append(J)\n",
    "plt.plot(xx, Js)"
   ]
  },
  {
   "cell_type": "code",
   "execution_count": 295,
   "metadata": {},
   "outputs": [
    {
     "name": "stdout",
     "output_type": "stream",
     "text": [
      "0.8225\n"
     ]
    }
   ],
   "source": [
    "tempx = test_X.copy()\n",
    "tempy = test_y.copy()\n",
    "for (i, fact) in zip(range(0, 784), factors):\n",
    "    if fact[1] != 0:\n",
    "        tempx[:, i] = (tempx[:, i] - fact[0]) / fact[1]\n",
    "    else:\n",
    "        tempx[:, i] = 0\n",
    "good = 0\n",
    "for i in range(0, tempx.shape[0]):\n",
    "    fr = front_prop(tempx[i, :], the)\n",
    "    if np.argmax(fr) == tempy[i] and np.max(fr) >= 0.5:\n",
    "        good += 1\n",
    "print(good / tempy.size)"
   ]
  },
  {
   "cell_type": "code",
   "execution_count": 282,
   "metadata": {},
   "outputs": [],
   "source": [
    "def predict_image(file):\n",
    "    img = np.array(Image.open(file).convert('L')).astype(float)\n",
    "    img = 255 - img\n",
    "    plt.imshow(img, cmap='Greys')\n",
    "    plt.clim()\n",
    "    plt.axis('off')\n",
    "    plt.rcParams['figure.figsize']=2, 2\n",
    "    \n",
    "    #flattens and normalizes the img to same parameters as the traning set\n",
    "    img = img.flatten()\n",
    "    for i in range(0, len(factors)):\n",
    "        if factors[i][1] != 0:\n",
    "            img[i] = (img[i] - factors[i][0]) / factors[i][1]\n",
    "        else:\n",
    "            img[i] = 0\n",
    "    pred = front_prop(img, the)\n",
    "    for i in range(0, len(pred)):\n",
    "        print(str(i) + \" : \" + str(round(pred[i]*100, 3)) + \"%\")"
   ]
  },
  {
   "cell_type": "code",
   "execution_count": 323,
   "metadata": {},
   "outputs": [
    {
     "name": "stdout",
     "output_type": "stream",
     "text": [
      "0 : 0.003%\n",
      "1 : 0.274%\n",
      "2 : 99.199%\n",
      "3 : 0.11%\n",
      "4 : 0.0%\n",
      "5 : 0.0%\n",
      "6 : 0.051%\n",
      "7 : 0.241%\n",
      "8 : 0.092%\n",
      "9 : 0.0%\n"
     ]
    },
    {
     "data": {
      "image/png": "[encoded data removed]",
      "text/plain": [
       "<Figure size 144x144 with 1 Axes>"
      ]
     },
     "metadata": {
      "needs_background": "light"
     },
     "output_type": "display_data"
    }
   ],
   "source": [
    "predict_image('Big_project/Numbers/test53.jpg')"
   ]
  }
 ],
 "metadata": {
  "kernelspec": {
   "display_name": "Python 3",
   "language": "python",
   "name": "python3"
  },
  "language_info": {
   "codemirror_mode": {
    "name": "ipython",
    "version": 3
   },
   "file_extension": ".py",
   "mimetype": "text/x-python",
   "name": "python",
   "nbconvert_exporter": "python",
   "pygments_lexer": "ipython3",
   "version": "3.6.8"
  }
 },
 "nbformat": 4,
 "nbformat_minor": 4
}
